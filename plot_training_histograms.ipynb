{
 "cells": [
  {
   "cell_type": "code",
   "execution_count": 3,
   "id": "a230576c",
   "metadata": {},
   "outputs": [],
   "source": [
    "import pandas as pd\n",
    "import xarray as xr\n",
    "import glob\n",
    "import os\n",
    "import netCDF4\n",
    "import scipy\n",
    "from scipy import stats\n",
    "import numpy as np\n",
    "import seaborn as sns\n",
    "import matplotlib.pyplot as plt\n",
    "import pickle\n",
    "import warnings\n",
    "\n",
    "import random\n",
    "\n",
    "import cartopy as cart\n",
    "from cartopy.mpl.ticker import LongitudeFormatter, LatitudeFormatter\n",
    "import cartopy.crs as ccrs\n",
    "\n",
    "from datetime import datetime\n",
    "\n",
    "from matplotlib.patches import Rectangle"
   ]
  },
  {
   "cell_type": "code",
   "execution_count": 4,
   "id": "83b02f5b",
   "metadata": {},
   "outputs": [],
   "source": [
    "#Choose region #BALTIC or #NORTHSEA\n",
    "region = 'NORTHSEA'\n",
    "\n",
    "#Choose Data Location\n",
    "location = 'cmems'\n",
    "\n",
    "#Choose year to consider\n",
    "year_of_choice = 2004\n",
    "\n",
    "# Choose how larger the dataset should be w.r.t. the prediction zone (in degrees of latitude and longitude)\n",
    "enlarge_dataset = 2.5\n",
    "\n",
    "if region in {'BALTIC'} :\n",
    "    max_lat = 66.0\n",
    "    min_lat = 53.0\n",
    "    max_lon = 31.0\n",
    "    min_lon = 9.0\n",
    "    \n",
    "    max_lat_large = 66.0 + enlarge_dataset\n",
    "    min_lat_large = 53.0 - enlarge_dataset\n",
    "    max_lon_large = 31.0 + enlarge_dataset\n",
    "    min_lon_large = 9.0  - enlarge_dataset    \n",
    "     \n",
    "    \n",
    "    #Name of the dataset containing altimetry observations\n",
    "    altimetry_dataset = \"/DGFI8/H/work_marcello/machine_learning_altimetry/\"\n",
    "\n",
    "elif region in {'NORTHSEA'} :\n",
    "    \n",
    "    max_lat = 61.0\n",
    "    min_lat = 50.0\n",
    "    max_lon = 12.2\n",
    "    min_lon = -4.0\n",
    "    \n",
    "    max_lat_large = 61.0 + enlarge_dataset\n",
    "    min_lat_large = 50.0 - enlarge_dataset\n",
    "    max_lon_large = 12.2 + enlarge_dataset\n",
    "    min_lon_large = -4.0  - enlarge_dataset      \n",
    "    \n",
    "    \n",
    "    #Name of the dataset containing altimetry observations\n",
    "    altimetry_dataset = \"/DGFI8/H/work_marcello/machine_learning_altimetry/\"    \n"
   ]
  },
  {
   "cell_type": "code",
   "execution_count": 5,
   "id": "e985eaef",
   "metadata": {},
   "outputs": [],
   "source": [
    "##LOAD\n",
    "\n",
    "if region in {'BALTIC'} :\n",
    "    if location in {'cmems'} :\n",
    "        X = pd.read_csv(altimetry_dataset+r'X_BALTIC_dataframe_for_RF.csv',index_col=[0])\n",
    "        y = pd.read_csv(altimetry_dataset+r'y_BALTIC_dataframe_for_RF.csv',index_col=[0])\n",
    "\n",
    "        \n",
    "    elif location in {'balticplus'} :\n",
    "        X = pd.read_csv(altimetry_dataset+r'X_BALTIC_dataframe_for_RF_balticplus.csv',index_col=[0])\n",
    "        y = pd.read_csv(altimetry_dataset+r'y_BALTIC_dataframe_for_RF_balticplus.csv',index_col=[0])\n",
    "\n",
    "\n",
    "elif region in {'NORTHSEA'} :\n",
    "    X = pd.read_csv(altimetry_dataset+r'X_NORTHSEA_dataframe_for_RF.csv',index_col=[0])\n",
    "    y = pd.read_csv(altimetry_dataset+r'y_NORTHSEA_dataframe_for_RF.csv',index_col=[0])"
   ]
  },
  {
   "cell_type": "code",
   "execution_count": 41,
   "id": "38ab5716",
   "metadata": {
    "scrolled": true
   },
   "outputs": [],
   "source": [
    "\n",
    "Xone = X.loc[X['month'] == 1]\n",
    "#Xone\n",
    "\n",
    "#Xone.hist(column=\"z_k1\", figsize=(8,8), xlabelsize=20, ylabelsize=20,xrot=45, bins=50, color='orange')\n",
    "\n",
    "\n",
    "Xtwo = X.loc[X['month'] == 7]\n",
    "\n",
    "#Xtwo.hist(column=\"z_k1\", figsize=(8,8), xlabelsize=20, ylabelsize=20,xrot=45, bins=50, color='orange')\n",
    "\n",
    "\n",
    "X_clust_one = X.loc[X['cluster'] == 1]\n",
    "X_clust_two = X.loc[X['cluster'] == 2]\n"
   ]
  },
  {
   "cell_type": "code",
   "execution_count": 55,
   "id": "7cda1b6f",
   "metadata": {},
   "outputs": [
    {
     "data": {
      "text/plain": [
       "<matplotlib.legend.Legend at 0x7fb403de5438>"
      ]
     },
     "execution_count": 55,
     "metadata": {},
     "output_type": "execute_result"
    },
    {
     "data": {
      "image/png": "[encoded data removed]",
      "text/plain": [
       "<Figure size 576x432 with 4 Axes>"
      ]
     },
     "metadata": {
      "needs_background": "light"
     },
     "output_type": "display_data"
    }
   ],
   "source": [
    "fig = plt.figure(figsize=(8,6))\n",
    "\n",
    "ax = fig.add_subplot(221)\n",
    "_ = ax.hist(Xone.z_k1.values,bins=50, density=True,label='January')\n",
    "_ = ax.hist(Xtwo.z_k1.values, color='red', alpha=.5,bins=50, density=True,label='July')\n",
    "plt.legend()\n",
    "\n",
    "ax2 = fig.add_subplot(222)\n",
    "_ = ax2.hist(X_clust_one.z_k1.values,bins=50, density=True,label='Geo Cluster 1')\n",
    "_ = ax2.hist(X_clust_two.z_k1.values, color='red', alpha=.5,bins=50, density=True, label='Geo Cluster 2')\n",
    "plt.legend()\n",
    "\n",
    "ax3 = fig.add_subplot(223)\n",
    "_ = ax3.hist(X.z_k1.values,bins=50, density=True,label='Mean SLA 100 km')\n",
    "_ = ax3.hist(X.z_k3.values, color='red', alpha=.5,bins=50, density=True,label='Mean SLA 300 km')\n",
    "#_ = ax3.hist(X.z_tilde_k3.values, color='green', alpha=.5,bins=50, density=True,label='July')\n",
    "plt.legend()\n",
    "\n",
    "ax3 = fig.add_subplot(224)\n",
    "_ = ax3.hist(X.z_u1.values,bins=50, density=True,label='Mean SLA 5 days')\n",
    "_ = ax3.hist(X.z_u3.values, color='red', alpha=.5,bins=50, density=True,label='Mean SLA 30 days')\n",
    "#_ = ax3.hist(X.z_tilde_k3.values, color='green', alpha=.5,bins=50, density=True,label='July')\n",
    "plt.legend()\n",
    "\n",
    "# ax1 = ax.twinx()\n",
    "# x.plot(kind='kde', ax=ax1)\n",
    "# y.plot(kind='kde', ax=ax1, color='red')"
   ]
  },
  {
   "cell_type": "code",
   "execution_count": null,
   "id": "517a1ef8",
   "metadata": {},
   "outputs": [],
   "source": []
  }
 ],
 "metadata": {
  "kernelspec": {
   "display_name": "Python [conda env:machine_learning_altimetry_validation] *",
   "language": "python",
   "name": "conda-env-machine_learning_altimetry_validation-py"
  },
  "language_info": {
   "codemirror_mode": {
    "name": "ipython",
    "version": 3
   },
   "file_extension": ".py",
   "mimetype": "text/x-python",
   "name": "python",
   "nbconvert_exporter": "python",
   "pygments_lexer": "ipython3",
   "version": "3.6.15"
  }
 },
 "nbformat": 4,
 "nbformat_minor": 5
}
